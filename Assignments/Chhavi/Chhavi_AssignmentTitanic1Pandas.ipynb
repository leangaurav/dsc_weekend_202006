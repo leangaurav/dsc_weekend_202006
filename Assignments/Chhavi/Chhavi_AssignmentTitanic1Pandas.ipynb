{
 "cells": [
  {
   "cell_type": "markdown",
   "metadata": {},
   "source": [
    "|Variable|Definition|Key|\n",
    "|---|---|---|\n",
    "|survival|Survival|0 = No, 1 = Yes|\n",
    "|pclass|Ticket class|1 = 1st, 2 = 2nd, 3 = 3rd|\n",
    "|gender|gender ||\n",
    "|Age |Age in years| |\n",
    "|sibsp |number of siblings / spouses aboard|\t|\n",
    "|parch |number of parents / children aboard| |\n",
    "|ticket|Ticket number ||\n",
    "|fare | fare| \t|\n",
    "|cabin |Cabin number|\t|\n",
    "|embarked|Port of Embarkation|C = Cherbourg, Q = Queenstown, S = Southampton|\n",
    "|boat | Lifeboat||\n",
    "|body | Body Identification Number||\n",
    "|home.dest| Home/destination||"
   ]
  },
  {
   "cell_type": "markdown",
   "metadata": {},
   "source": []
  },
  {
   "cell_type": "markdown",
   "metadata": {},
   "source": [
    "- Read data and describe it\n",
    "- Find columns with missingdata\n",
    "- Print shape of dataset\n",
    "- drop columns with more than 25% missing data\n",
    "- drop columns having independent values(which do not affect the survival rate).\n",
    "\n",
    "\n",
    "- check data types of all columns\n",
    "- convert price to numeric\n",
    "- find columns still having missing/na values and also count of missing data\n",
    "- fill na with mean for fare and age column column.\n",
    "- drop na values for embarked column.\n",
    "- dump the dataframe to a csv file 'titanic_filtered.csv'.\n",
    "\n",
    "\n",
    "- for surviced column replace 0 with D and 1 with A\n",
    "- find the frequency of different values in survived column\n",
    "- group by gender and survived and see the counts in each category\n",
    "- find different pclass and no of people in each class\n",
    "\n",
    "- find top 5 people with highest values of age. Count no of male and females in the top 5\n",
    "- find max age male and female who survived\n",
    "- get average age by gender\n",
    "- get average age by people survived vs not-survived"
   ]
  },
  {
   "cell_type": "code",
   "execution_count": 1,
   "metadata": {},
   "outputs": [
    {
     "data": {
      "text/plain": [
       "'C:\\\\Users\\\\Chhavi.Bajpai\\\\Desktop\\\\PY\\\\Assignments'"
      ]
     },
     "execution_count": 1,
     "metadata": {},
     "output_type": "execute_result"
    }
   ],
   "source": [
    "%pwd\n"
   ]
  },
  {
   "cell_type": "code",
   "execution_count": 2,
   "metadata": {},
   "outputs": [
    {
     "name": "stdout",
     "output_type": "stream",
     "text": [
      "   Unnamed: 0  pclass  survived  \\\n",
      "0           0       1         1   \n",
      "1           1       1         1   \n",
      "2           2       1         0   \n",
      "3           3       1         0   \n",
      "4           4       1         0   \n",
      "\n",
      "                                              name  gender      age  sibsp  \\\n",
      "0                    Allen, Miss. Elisabeth Walton  female  29.0000      0   \n",
      "1                   Allison, Master. Hudson Trevor    male   0.9167      1   \n",
      "2                     Allison, Miss. Helen Loraine  female   2.0000      1   \n",
      "3             Allison, Mr. Hudson Joshua Creighton    male  30.0000      1   \n",
      "4  Allison, Mrs. Hudson J C (Bessie Waldo Daniels)  female  25.0000      1   \n",
      "\n",
      "   parch  ticket      fare    cabin embarked boat   body  \\\n",
      "0      0   24160  $211.34        B5        S    2    NaN   \n",
      "1      2  113781  $151.55   C22 C26        S   11    NaN   \n",
      "2      2  113781  $151.55   C22 C26        S  NaN    NaN   \n",
      "3      2  113781  $151.55   C22 C26        S  NaN  135.0   \n",
      "4      2  113781  $151.55   C22 C26        S  NaN    NaN   \n",
      "\n",
      "                         home.dest  \n",
      "0                     St Louis, MO  \n",
      "1  Montreal, PQ / Chesterville, ON  \n",
      "2  Montreal, PQ / Chesterville, ON  \n",
      "3  Montreal, PQ / Chesterville, ON  \n",
      "4  Montreal, PQ / Chesterville, ON  \n",
      "         Unnamed: 0       pclass     survived                  name gender  \\\n",
      "count   1309.000000  1309.000000  1309.000000                  1309   1309   \n",
      "unique          NaN          NaN          NaN                  1307      2   \n",
      "top             NaN          NaN          NaN  Connolly, Miss. Kate   male   \n",
      "freq            NaN          NaN          NaN                     2    843   \n",
      "mean     654.000000     2.294882     0.381971                   NaN    NaN   \n",
      "std      378.020061     0.837836     0.486055                   NaN    NaN   \n",
      "min        0.000000     1.000000     0.000000                   NaN    NaN   \n",
      "25%      327.000000     2.000000     0.000000                   NaN    NaN   \n",
      "50%      654.000000     3.000000     0.000000                   NaN    NaN   \n",
      "75%      981.000000     3.000000     1.000000                   NaN    NaN   \n",
      "max     1308.000000     3.000000     1.000000                   NaN    NaN   \n",
      "\n",
      "                age        sibsp        parch    ticket    fare        cabin  \\\n",
      "count   1046.000000  1309.000000  1309.000000      1309    1308          295   \n",
      "unique          NaN          NaN          NaN       929     263          186   \n",
      "top             NaN          NaN          NaN  CA. 2343  $8.05   C23 C25 C27   \n",
      "freq            NaN          NaN          NaN        11      60            6   \n",
      "mean      29.881135     0.498854     0.385027       NaN     NaN          NaN   \n",
      "std       14.413500     1.041658     0.865560       NaN     NaN          NaN   \n",
      "min        0.166700     0.000000     0.000000       NaN     NaN          NaN   \n",
      "25%       21.000000     0.000000     0.000000       NaN     NaN          NaN   \n",
      "50%       28.000000     0.000000     0.000000       NaN     NaN          NaN   \n",
      "75%       39.000000     1.000000     0.000000       NaN     NaN          NaN   \n",
      "max       80.000000     8.000000     9.000000       NaN     NaN          NaN   \n",
      "\n",
      "       embarked boat        body     home.dest  \n",
      "count      1307  486  121.000000           745  \n",
      "unique        3   27         NaN           369  \n",
      "top           S   13         NaN  New York, NY  \n",
      "freq        914   39         NaN            64  \n",
      "mean        NaN  NaN  160.809917           NaN  \n",
      "std         NaN  NaN   97.696922           NaN  \n",
      "min         NaN  NaN    1.000000           NaN  \n",
      "25%         NaN  NaN   72.000000           NaN  \n",
      "50%         NaN  NaN  155.000000           NaN  \n",
      "75%         NaN  NaN  256.000000           NaN  \n",
      "max         NaN  NaN  328.000000           NaN  \n"
     ]
    }
   ],
   "source": [
    "# Read data and describe it\n",
    "import pandas as pd\n",
    "df=pd.read_csv(r\"C:\\Users\\Chhavi.Bajpai\\Desktop\\PY\\Assignments\\titanic_dataset.csv\")\n",
    "print(df.head())\n",
    "print(df.describe(include='all'))"
   ]
  },
  {
   "cell_type": "code",
   "execution_count": 3,
   "metadata": {},
   "outputs": [
    {
     "name": "stdout",
     "output_type": "stream",
     "text": [
      "Unnamed: 0       0\n",
      "pclass           0\n",
      "survived         0\n",
      "name             0\n",
      "gender           0\n",
      "age            263\n",
      "sibsp            0\n",
      "parch            0\n",
      "ticket           0\n",
      "fare             1\n",
      "cabin         1014\n",
      "embarked         2\n",
      "boat           823\n",
      "body          1188\n",
      "home.dest      564\n",
      "dtype: int64\n",
      "Unnamed: 0    False\n",
      "pclass        False\n",
      "survived      False\n",
      "name          False\n",
      "gender        False\n",
      "age            True\n",
      "sibsp         False\n",
      "parch         False\n",
      "ticket        False\n",
      "fare           True\n",
      "cabin          True\n",
      "embarked       True\n",
      "boat           True\n",
      "body           True\n",
      "home.dest      True\n",
      "dtype: bool\n",
      "Unnamed: 0    False\n",
      "pclass        False\n",
      "survived      False\n",
      "name          False\n",
      "gender        False\n",
      "age           False\n",
      "sibsp         False\n",
      "parch         False\n",
      "ticket        False\n",
      "fare          False\n",
      "cabin         False\n",
      "embarked      False\n",
      "boat          False\n",
      "body          False\n",
      "home.dest     False\n",
      "dtype: bool\n"
     ]
    }
   ],
   "source": [
    "# Find columns with missingdata\n",
    "print(df.isna().sum())\n",
    "# print((~df.isna()).sum())\n",
    "# isna Detect missing values.Return a boolean same-sized object (data frame) indicating if the values are NA. NA values, such as\n",
    "# None or numpy.NaN, gets mapped to True values.\n",
    "print(df.isna().any(axis=0))\n",
    "print(df.isna().all(axis=0))\n"
   ]
  },
  {
   "cell_type": "code",
   "execution_count": 4,
   "metadata": {},
   "outputs": [
    {
     "name": "stdout",
     "output_type": "stream",
     "text": [
      "(1309, 15)\n"
     ]
    }
   ],
   "source": [
    "# Print shape of dataset\n",
    "print(df.shape)"
   ]
  },
  {
   "cell_type": "code",
   "execution_count": 5,
   "metadata": {},
   "outputs": [
    {
     "name": "stdout",
     "output_type": "stream",
     "text": [
      "981.75\n",
      "327.25\n",
      "Unnamed: 0       0\n",
      "pclass           0\n",
      "survived         0\n",
      "name             0\n",
      "gender           0\n",
      "age            263\n",
      "sibsp            0\n",
      "parch            0\n",
      "ticket           0\n",
      "fare             1\n",
      "cabin         1014\n",
      "embarked         2\n",
      "boat           823\n",
      "body          1188\n",
      "home.dest      564\n",
      "dtype: int64\n",
      "Unnamed: 0      0\n",
      "pclass          0\n",
      "survived        0\n",
      "name            0\n",
      "gender          0\n",
      "age           263\n",
      "sibsp           0\n",
      "parch           0\n",
      "ticket          0\n",
      "fare            1\n",
      "embarked        2\n",
      "dtype: int64\n"
     ]
    }
   ],
   "source": [
    "# drop columns with more than 25% missing data\n",
    "print(1309*0.75)\n",
    "print(1309*0.25)\n",
    "print(df.isna().sum())\n",
    "# df1=df.dropna(thresh=1309*0.75,axis=1)\n",
    "# print(df1.isna().sum())\n",
    "\n",
    "df.dropna(thresh=1309*0.75,axis=1,inplace=True)\n",
    "print(df.isna().sum())\n",
    "# print(df)"
   ]
  },
  {
   "cell_type": "code",
   "execution_count": 6,
   "metadata": {},
   "outputs": [
    {
     "name": "stdout",
     "output_type": "stream",
     "text": [
      "   pclass  survived  gender      age  sibsp  parch  ticket      fare embarked\n",
      "0       1         1  female  29.0000      0      0   24160  $211.34         S\n",
      "1       1         1    male   0.9167      1      2  113781  $151.55         S\n",
      "2       1         0  female   2.0000      1      2  113781  $151.55         S\n",
      "3       1         0    male  30.0000      1      2  113781  $151.55         S\n",
      "4       1         0  female  25.0000      1      2  113781  $151.55         S\n"
     ]
    }
   ],
   "source": [
    "# drop columns having independent values(which do not affect the survival rate).\n",
    "# Columns Unnamed: 0 and name can be dropped as they do not affect the survival rate.\n",
    "df.drop([\"Unnamed: 0\",\"name\"], axis=1, inplace=True)\n",
    "print(df.head())"
   ]
  },
  {
   "cell_type": "code",
   "execution_count": 7,
   "metadata": {},
   "outputs": [
    {
     "name": "stdout",
     "output_type": "stream",
     "text": [
      "pclass        int64\n",
      "survived      int64\n",
      "gender       object\n",
      "age         float64\n",
      "sibsp         int64\n",
      "parch         int64\n",
      "ticket       object\n",
      "fare         object\n",
      "embarked     object\n",
      "dtype: object\n"
     ]
    }
   ],
   "source": [
    "# check data types of all columns\n",
    "print(df.dtypes)"
   ]
  },
  {
   "cell_type": "code",
   "execution_count": 8,
   "metadata": {},
   "outputs": [
    {
     "name": "stdout",
     "output_type": "stream",
     "text": [
      "0       $211.34 \n",
      "1       $151.55 \n",
      "2       $151.55 \n",
      "3       $151.55 \n",
      "4       $151.55 \n",
      "          ...   \n",
      "1304     $14.45 \n",
      "1305     $14.45 \n",
      "1306      $7.23 \n",
      "1307      $7.23 \n",
      "1308      $7.88 \n",
      "Name: fare, Length: 1309, dtype: object\n",
      "0       211.34 \n",
      "1       151.55 \n",
      "2       151.55 \n",
      "3       151.55 \n",
      "4       151.55 \n",
      "         ...   \n",
      "1304     14.45 \n",
      "1305     14.45 \n",
      "1306      7.23 \n",
      "1307      7.23 \n",
      "1308      7.88 \n",
      "Name: fare, Length: 1309, dtype: object\n",
      "0       211.34\n",
      "1       151.55\n",
      "2       151.55\n",
      "3       151.55\n",
      "4       151.55\n",
      "         ...  \n",
      "1304     14.45\n",
      "1305     14.45\n",
      "1306      7.23\n",
      "1307      7.23\n",
      "1308      7.88\n",
      "Name: fare, Length: 1309, dtype: float64\n"
     ]
    }
   ],
   "source": [
    "# convert price to numeric\n",
    "print(df.fare)\n",
    "f1=df.fare.str.replace(\"$\",'')\n",
    "print(f1)\n",
    "df.fare=f1.astype('float64')\n",
    "print(df.fare)\n"
   ]
  },
  {
   "cell_type": "code",
   "execution_count": 9,
   "metadata": {},
   "outputs": [
    {
     "name": "stdout",
     "output_type": "stream",
     "text": [
      "pclass      False\n",
      "survived    False\n",
      "gender      False\n",
      "age          True\n",
      "sibsp       False\n",
      "parch       False\n",
      "ticket      False\n",
      "fare         True\n",
      "embarked     True\n",
      "dtype: bool\n",
      "pclass        0\n",
      "survived      0\n",
      "gender        0\n",
      "age         263\n",
      "sibsp         0\n",
      "parch         0\n",
      "ticket        0\n",
      "fare          1\n",
      "embarked      2\n",
      "dtype: int64\n"
     ]
    }
   ],
   "source": [
    "# find columns still having missing/na values and also count of missing data\n",
    "print(df.isna().any(axis=0))\n",
    "print(df.isna().sum())"
   ]
  },
  {
   "cell_type": "code",
   "execution_count": 10,
   "metadata": {},
   "outputs": [
    {
     "name": "stdout",
     "output_type": "stream",
     "text": [
      "33.29626146789031\n",
      "29.8811345124283\n",
      "pclass      0\n",
      "survived    0\n",
      "gender      0\n",
      "age         0\n",
      "sibsp       0\n",
      "parch       0\n",
      "ticket      0\n",
      "fare        0\n",
      "embarked    2\n",
      "dtype: int64\n"
     ]
    }
   ],
   "source": [
    "# fill na with mean for fare and age column column.\n",
    "fare_mean=df.fare.mean()\n",
    "print(fare_mean)\n",
    "age_mean=df.age.mean()\n",
    "print(age_mean)\n",
    "fare2=df.fare.fillna(fare_mean)\n",
    "age2=df.age.fillna(age_mean)\n",
    "df.fare=fare2\n",
    "df.age=age2\n",
    "print(df.isna().sum())"
   ]
  },
  {
   "cell_type": "code",
   "execution_count": 13,
   "metadata": {},
   "outputs": [
    {
     "name": "stdout",
     "output_type": "stream",
     "text": [
      "(array([168, 284], dtype=int64),)\n",
      "[168 284]\n",
      "284\n",
      "      pclass  survived  gender        age  sibsp  parch  ticket    fare  \\\n",
      "0          1         1  female  29.000000      0      0   24160  211.34   \n",
      "1          1         1    male   0.916700      1      2  113781  151.55   \n",
      "2          1         0  female   2.000000      1      2  113781  151.55   \n",
      "3          1         0    male  30.000000      1      2  113781  151.55   \n",
      "4          1         0  female  25.000000      1      2  113781  151.55   \n",
      "...      ...       ...     ...        ...    ...    ...     ...     ...   \n",
      "1304       3         0  female  14.500000      1      0    2665   14.45   \n",
      "1305       3         0  female  29.881135      1      0    2665   14.45   \n",
      "1306       3         0    male  26.500000      0      0    2656    7.23   \n",
      "1307       3         0    male  27.000000      0      0    2670    7.23   \n",
      "1308       3         0    male  29.000000      0      0  315082    7.88   \n",
      "\n",
      "     embarked  \n",
      "0           S  \n",
      "1           S  \n",
      "2           S  \n",
      "3           S  \n",
      "4           S  \n",
      "...       ...  \n",
      "1304        C  \n",
      "1305        C  \n",
      "1306        C  \n",
      "1307        C  \n",
      "1308        S  \n",
      "\n",
      "[1307 rows x 9 columns]\n",
      "0\n",
      "(1307, 9)\n"
     ]
    }
   ],
   "source": [
    "# drop na values for embarked column.\n",
    "# df.drop(['embarked'], axis=1,inplace=True)\n",
    "# print(df.isna().sum())\n",
    "import numpy as np\n",
    "emb=np.where(df.embarked.isna())\n",
    "print(emb)\n",
    "print(emb[0])\n",
    "print(emb[0][1])\n",
    "\n",
    "df.drop(index=emb[0], inplace=True)\n",
    "print(df)\n",
    "print(df.embarked.isna().sum())\n",
    "print(df.shape)"
   ]
  },
  {
   "cell_type": "code",
   "execution_count": 14,
   "metadata": {},
   "outputs": [],
   "source": [
    "# dump the dataframe to a csv file 'titanic_filtered.csv'\n",
    "df.to_csv('titanic_filtered.csv')\n"
   ]
  },
  {
   "cell_type": "code",
   "execution_count": 16,
   "metadata": {},
   "outputs": [
    {
     "name": "stdout",
     "output_type": "stream",
     "text": [
      "0       A\n",
      "1       A\n",
      "2       D\n",
      "3       D\n",
      "4       D\n",
      "       ..\n",
      "1304    D\n",
      "1305    D\n",
      "1306    D\n",
      "1307    D\n",
      "1308    D\n",
      "Name: survived, Length: 1307, dtype: object\n"
     ]
    }
   ],
   "source": [
    "# for surviced column replace 0 with D and 1 with A\n",
    "surv1=df.survived.replace({0:'D',1:'A'})\n",
    "df.survived=surv1\n",
    "print(df.survived)"
   ]
  },
  {
   "cell_type": "code",
   "execution_count": 17,
   "metadata": {},
   "outputs": [
    {
     "name": "stdout",
     "output_type": "stream",
     "text": [
      "['A' 'D']\n",
      "D    809\n",
      "A    498\n",
      "Name: survived, dtype: int64\n"
     ]
    }
   ],
   "source": [
    "# find the frequency of different values in survived column\n",
    "print(df.survived.unique())\n",
    "print(df.survived.value_counts())"
   ]
  },
  {
   "cell_type": "code",
   "execution_count": 25,
   "metadata": {},
   "outputs": [
    {
     "name": "stdout",
     "output_type": "stream",
     "text": [
      "                 pclass  age  sibsp  parch  ticket  fare  embarked\n",
      "gender survived                                                   \n",
      "female A            337  337    337    337     337   337       337\n",
      "       D            127  127    127    127     127   127       127\n",
      "male   A            161  161    161    161     161   161       161\n",
      "       D            682  682    682    682     682   682       682\n",
      "gender  survived\n",
      "female  A           337\n",
      "        D           127\n",
      "male    A           161\n",
      "        D           682\n",
      "Name: gender, dtype: int64\n",
      "gender  survived\n",
      "female  A           337\n",
      "        D           127\n",
      "male    A           161\n",
      "        D           682\n",
      "Name: survived, dtype: int64\n"
     ]
    }
   ],
   "source": [
    "# group by gender and survived and see the counts in each category\n",
    "grp1=df.groupby(by=[\"gender\",\"survived\"])\n",
    "print(grp1.count())\n",
    "print(grp1.gender.count())\n",
    "print(grp1.survived.count())\n"
   ]
  },
  {
   "cell_type": "code",
   "execution_count": 54,
   "metadata": {},
   "outputs": [
    {
     "name": "stdout",
     "output_type": "stream",
     "text": [
      "[1 2 3]\n",
      "3    709\n",
      "1    321\n",
      "2    277\n",
      "Name: pclass, dtype: int64\n",
      "      pclass survived  gender   age  sibsp  parch    ticket   fare embarked\n",
      "9          1        D    male  71.0      0      0  PC 17609  49.50        C\n",
      "135        1        D    male  71.0      0      0  PC 17754  34.65        C\n",
      "1235       3        D    male  74.0      0      0    347060   7.78        S\n",
      "61         1        A  female  76.0      1      0     19877  78.85        S\n",
      "14         1        A    male  80.0      0      0     27042  30.00        S\n",
      "['male' 'female']\n",
      "male      4\n",
      "female    1\n",
      "Name: gender, dtype: int64\n",
      "    pclass survived  gender   age  sibsp  parch    ticket   fare embarked\n",
      "14       1        A    male  80.0      0      0     27042  30.00        S\n",
      "61       1        A  female  76.0      1      0     19877  78.85        S\n",
      "78       1        A  female  64.0      0      2  PC 17756  83.16        C\n",
      "83       1        A  female  64.0      1      1    112901  26.55        S\n",
      "6        1        A  female  63.0      1      0     13502  77.96        S\n",
      "61    76.0\n",
      "Name: age, dtype: float64\n",
      "14    80.0\n",
      "Name: age, dtype: float64\n"
     ]
    },
    {
     "data": {
      "text/html": [
       "<div>\n",
       "<style scoped>\n",
       "    .dataframe tbody tr th:only-of-type {\n",
       "        vertical-align: middle;\n",
       "    }\n",
       "\n",
       "    .dataframe tbody tr th {\n",
       "        vertical-align: top;\n",
       "    }\n",
       "\n",
       "    .dataframe thead th {\n",
       "        text-align: right;\n",
       "    }\n",
       "</style>\n",
       "<table border=\"1\" class=\"dataframe\">\n",
       "  <thead>\n",
       "    <tr style=\"text-align: right;\">\n",
       "      <th></th>\n",
       "      <th>pclass</th>\n",
       "      <th>age</th>\n",
       "      <th>sibsp</th>\n",
       "      <th>parch</th>\n",
       "      <th>fare</th>\n",
       "    </tr>\n",
       "    <tr>\n",
       "      <th>gender</th>\n",
       "      <th></th>\n",
       "      <th></th>\n",
       "      <th></th>\n",
       "      <th></th>\n",
       "      <th></th>\n",
       "    </tr>\n",
       "  </thead>\n",
       "  <tbody>\n",
       "    <tr>\n",
       "      <th>female</th>\n",
       "      <td>2.159483</td>\n",
       "      <td>28.795931</td>\n",
       "      <td>0.655172</td>\n",
       "      <td>0.635776</td>\n",
       "      <td>46.052974</td>\n",
       "    </tr>\n",
       "    <tr>\n",
       "      <th>male</th>\n",
       "      <td>2.372479</td>\n",
       "      <td>30.430716</td>\n",
       "      <td>0.413998</td>\n",
       "      <td>0.247924</td>\n",
       "      <td>26.163969</td>\n",
       "    </tr>\n",
       "  </tbody>\n",
       "</table>\n",
       "</div>"
      ],
      "text/plain": [
       "          pclass        age     sibsp     parch       fare\n",
       "gender                                                    \n",
       "female  2.159483  28.795931  0.655172  0.635776  46.052974\n",
       "male    2.372479  30.430716  0.413998  0.247924  26.163969"
      ]
     },
     "execution_count": 54,
     "metadata": {},
     "output_type": "execute_result"
    }
   ],
   "source": [
    "# find different pclass and no of people in each class\n",
    "print(df.pclass.unique())\n",
    "print(df.pclass.value_counts())\n",
    "\n",
    "\n",
    "\n",
    "\n",
    "\n"
   ]
  },
  {
   "cell_type": "code",
   "execution_count": 61,
   "metadata": {},
   "outputs": [
    {
     "name": "stdout",
     "output_type": "stream",
     "text": [
      "      pclass survived  gender   age  sibsp  parch    ticket   fare embarked\n",
      "9          1        D    male  71.0      0      0  PC 17609  49.50        C\n",
      "135        1        D    male  71.0      0      0  PC 17754  34.65        C\n",
      "1235       3        D    male  74.0      0      0    347060   7.78        S\n",
      "61         1        A  female  76.0      1      0     19877  78.85        S\n",
      "14         1        A    male  80.0      0      0     27042  30.00        S\n",
      "['male' 'female']\n",
      "male      4\n",
      "female    1\n",
      "Name: gender, dtype: int64\n"
     ]
    }
   ],
   "source": [
    "# find top 5 people with highest values of age. Count no of male and females in the top 5\n",
    "dfage1=(df.sort_values(by=[\"age\"])).tail()\n",
    "print(dfage1)\n",
    "print(dfage1.gender.unique())\n",
    "print(dfage1.gender.value_counts())"
   ]
  },
  {
   "cell_type": "code",
   "execution_count": 60,
   "metadata": {},
   "outputs": [
    {
     "name": "stdout",
     "output_type": "stream",
     "text": [
      "    pclass survived  gender   age  sibsp  parch    ticket   fare embarked\n",
      "14       1        A    male  80.0      0      0     27042  30.00        S\n",
      "61       1        A  female  76.0      1      0     19877  78.85        S\n",
      "78       1        A  female  64.0      0      2  PC 17756  83.16        C\n",
      "83       1        A  female  64.0      1      1    112901  26.55        S\n",
      "6        1        A  female  63.0      1      0     13502  77.96        S\n",
      "61    76.0\n",
      "Name: age, dtype: float64\n",
      "14    80.0\n",
      "Name: age, dtype: float64\n"
     ]
    }
   ],
   "source": [
    "# find max age male and female who survived\n",
    "dfsurv1=((df[df.survived=='A']).sort_values(by=[\"age\"], ascending=False)).head()\n",
    "print(dfsurv1)\n",
    "dfsurv2=(dfsurv1[dfsurv1.gender=='female']).head(1)\n",
    "print(dfsurv2.age)\n",
    "dfsurv3=dfsurv1[dfsurv1.gender=='male']\n",
    "print(dfsurv3.age)"
   ]
  },
  {
   "cell_type": "code",
   "execution_count": 56,
   "metadata": {},
   "outputs": [
    {
     "name": "stdout",
     "output_type": "stream",
     "text": [
      "gender\n",
      "female    28.795931\n",
      "male      30.430716\n",
      "Name: age, dtype: float64\n"
     ]
    }
   ],
   "source": [
    "# get average age by gender\n",
    "print((df.groupby(by=['gender'])).age.mean())"
   ]
  },
  {
   "cell_type": "code",
   "execution_count": 59,
   "metadata": {},
   "outputs": [
    {
     "name": "stdout",
     "output_type": "stream",
     "text": [
      "28.97471128395037\n",
      "30.38936817968011\n"
     ]
    }
   ],
   "source": [
    "# get average age by people survived vs not-survived\n",
    "dfsurv4 = (df[df.survived=='A']).age.mean()\n",
    "print(dfsurv4)\n",
    "dfsurv5 = (df[df.survived=='D']).age.mean()\n",
    "print(dfsurv5)"
   ]
  }
 ],
 "metadata": {
  "kernelspec": {
   "display_name": "Python 3",
   "language": "python",
   "name": "python3"
  },
  "language_info": {
   "codemirror_mode": {
    "name": "ipython",
    "version": 3
   },
   "file_extension": ".py",
   "mimetype": "text/x-python",
   "name": "python",
   "nbconvert_exporter": "python",
   "pygments_lexer": "ipython3",
   "version": "3.7.6"
  }
 },
 "nbformat": 4,
 "nbformat_minor": 2
}
