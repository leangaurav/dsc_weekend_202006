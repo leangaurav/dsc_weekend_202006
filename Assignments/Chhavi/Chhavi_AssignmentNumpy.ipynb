{
 "cells": [
  {
   "cell_type": "markdown",
   "metadata": {},
   "source": [
    "## NUMPY\n",
    "- create a numpy array of 5 zeros.\n",
    "    - check datatype, itemsize and shape of above\n",
    "- create a numpy array of ones of shape (5,4)\n",
    "- create a matrix of shape 4,5 with numbers from 1-20\n",
    "- multiply all elements of above array by 10\n",
    "- print odd elements from array\n",
    "- replace all even elements by their negative\n",
    "  \n",
    "  \n",
    "  \n",
    "- create a linearly spaced matrix M1 of size 4x4 having values in range 1-16\n",
    "- create a transpose of above matrix call it M2\n",
    "- find sum of above matrix M3 = (M1 + M2)\n",
    "- Find Transpose of M3, Call it MT1. Check if M3 == MT1\n",
    "- find diffrence of M4 = (M1 - M2)\n",
    "- Find Transpose of M4, Call it MT2. Check if M4 == MT2. Also check if M4 == -MT2\n",
    "  \n",
    "\n",
    "- create a matrix (3x4) R1 of random numbers between 10-40\n",
    "- find min and max column wise\n",
    "- replace the last column with sum of all the columns\n",
    "\n",
    "\n",
    "- create a matrix (3x4) R1 of random numbers between 10-40\n",
    "- replace all even elements with nan in R1\n",
    "- count number of nan in R1\n",
    "\n",
    "\n",
    "\n",
    "- check output of this code  \n",
    "`a1 = np.arange(1,10).reshape(3,3)\n",
    "a2 = np.arange(11,20).reshape(3,3)\n",
    "a3 = np.append(a1,a2)\n",
    "print(a3)\n",
    "a3 = np.append(a1,a2, axis = 0)\n",
    "print(a3)\n",
    "a3 = np.append(a1,a2, axis = 1)\n",
    "print(a3)\n",
    "`\n"
   ]
  },
  {
   "cell_type": "code",
   "execution_count": 4,
   "metadata": {},
   "outputs": [
    {
     "name": "stdout",
     "output_type": "stream",
     "text": [
      "[0 0 0 0 0]\n",
      "\n",
      "Type of numpy array print below\n",
      "<class 'numpy.ndarray'>\n",
      "\n",
      "Type of numpy array DATA TYPE print below\n",
      "int32\n",
      "\n",
      "Type of numpy array ITEM SIZE print below\n",
      "4\n",
      "\n",
      "Type of numpy array SHAPE print below\n",
      "(5,)\n",
      "\n",
      "Type of numpy array SIZE print below\n",
      "5\n"
     ]
    }
   ],
   "source": [
    "# Create a numpy array of 5 zeros.\n",
    "# Check datatype, itemsize and shape of above\n",
    "import numpy as np\n",
    "a = [0,0,0,0,0]\n",
    "\n",
    "n=np.array(a)\n",
    "print(n)\n",
    "print()\n",
    "print('Type of numpy array print below')\n",
    "print(type(n))\n",
    "print()\n",
    "print('Type of numpy array DATA TYPE print below')\n",
    "print(n.dtype)\n",
    "print()\n",
    "print('Type of numpy array ITEM SIZE print below')\n",
    "print(n.itemsize)\n",
    "print()\n",
    "print('Type of numpy array SHAPE print below')\n",
    "print(n.shape)\n",
    "print()\n",
    "print('Type of numpy array SIZE print below')\n",
    "print(n.size)"
   ]
  },
  {
   "cell_type": "code",
   "execution_count": 5,
   "metadata": {},
   "outputs": [
    {
     "name": "stdout",
     "output_type": "stream",
     "text": [
      "[ 1  2  3  4  5  6  7  8  9 10 11 12 13 14 15 16 17 18 19 20]\n",
      "<class 'numpy.ndarray'>\n",
      "[[ 1  2  3  4]\n",
      " [ 5  6  7  8]\n",
      " [ 9 10 11 12]\n",
      " [13 14 15 16]\n",
      " [17 18 19 20]]\n",
      "(5, 4)\n",
      "4\n",
      "int32\n"
     ]
    }
   ],
   "source": [
    "# Create a numpy array of ones of shape (5,4) 5 rows and 4 columns\n",
    "\n",
    "\n",
    "a= range(1,21,1)\n",
    "n=np.array(a)\n",
    "print(n)\n",
    "print(type(n))\n",
    "\n",
    "n1=n.reshape(5,4)\n",
    "print(n1)\n",
    "print(n1.shape)\n",
    "print(n1.itemsize)\n",
    "print(n1.dtype)"
   ]
  },
  {
   "cell_type": "code",
   "execution_count": 2,
   "metadata": {},
   "outputs": [
    {
     "name": "stdout",
     "output_type": "stream",
     "text": [
      "[ 1  2  3  4  5  6  7  8  9 10 11 12 13 14 15 16 17 18 19 20]\n",
      "[[ 1  2  3  4  5]\n",
      " [ 6  7  8  9 10]\n",
      " [11 12 13 14 15]\n",
      " [16 17 18 19 20]]\n",
      "(4, 5)\n"
     ]
    }
   ],
   "source": [
    "# Ceate a matrix of shape 4,5 with numbers from 1-20\n",
    "import numpy as np\n",
    "a=range(1,21,1)\n",
    "n=np.array(a)\n",
    "print(n)\n",
    "n2=n.reshape(4,5)\n",
    "# print(n.reshape(4,5))\n",
    "print(n2)\n",
    "print(n2.shape)"
   ]
  },
  {
   "cell_type": "code",
   "execution_count": 3,
   "metadata": {},
   "outputs": [
    {
     "name": "stdout",
     "output_type": "stream",
     "text": [
      "[[ 10  20  30  40  50]\n",
      " [ 60  70  80  90 100]\n",
      " [110 120 130 140 150]\n",
      " [160 170 180 190 200]]\n"
     ]
    }
   ],
   "source": [
    "# Multiply all elements of above array by 10\n",
    "n3=n2*10\n",
    "print(n3)"
   ]
  },
  {
   "cell_type": "code",
   "execution_count": 4,
   "metadata": {},
   "outputs": [
    {
     "name": "stdout",
     "output_type": "stream",
     "text": [
      "[[ 1  2  3  4  5]\n",
      " [ 6  7  8  9 10]\n",
      " [11 12 13 14 15]\n",
      " [16 17 18 19 20]]\n",
      "[ 1  2  3  4  5  6  7  8  9 10 11 12 13 14 15 16 17 18 19 20]\n",
      "[ 1  3  5  7  9 11 13 15 17 19]\n",
      "(10,)\n",
      "[[ 1  3  5  7  9]\n",
      " [11 13 15 17 19]]\n"
     ]
    }
   ],
   "source": [
    "# Print odd elements from array\n",
    "print(n2)\n",
    "n4=n2.reshape(20)\n",
    "print(n4)\n",
    "n5=n4[n4%2!=0]\n",
    "print(n5)\n",
    "print(n5.shape)\n",
    "print(n5.reshape(2,5))"
   ]
  },
  {
   "cell_type": "code",
   "execution_count": 22,
   "metadata": {},
   "outputs": [
    {
     "name": "stdout",
     "output_type": "stream",
     "text": [
      "[[ 1  2  3  4  5]\n",
      " [ 6  7  8  9 10]\n",
      " [11 12 13 14 15]\n",
      " [16 17 18 19 20]]\n",
      "[[ 1  2  3  4  5]\n",
      " [ 6  7  8  9 10]\n",
      " [11 12 13 14 15]\n",
      " [16 17 18 19 20]]\n",
      "[[  1  -2   3  -4   5]\n",
      " [ -6   7  -8   9 -10]\n",
      " [ 11 -12  13 -14  15]\n",
      " [-16  17 -18  19 -20]]\n"
     ]
    }
   ],
   "source": [
    "# Replace all even elements by their negative\n",
    "n3=n2\n",
    "n4=n3\n",
    "print(n2)\n",
    "print(n3)\n",
    "r=n3%2\n",
    "r1=r==0\n",
    "n3[r1]=-n3[r1]\n",
    "print(n3)\n",
    "# print(n2[r1])\n",
    "# n5=n2[r1]\n"
   ]
  },
  {
   "cell_type": "code",
   "execution_count": 39,
   "metadata": {},
   "outputs": [
    {
     "name": "stdout",
     "output_type": "stream",
     "text": [
      "[[ 1  2  3  4]\n",
      " [ 5  6  7  8]\n",
      " [ 9 10 11 12]\n",
      " [13 14 15 16]]\n"
     ]
    }
   ],
   "source": [
    "# Create a linearly spaced matrix M1 of size 4x4 having values in range 1-16\n",
    "import numpy as np\n",
    "M1=((np.arange(1,17)).reshape(4,4))\n",
    "print(M1)"
   ]
  },
  {
   "cell_type": "code",
   "execution_count": 36,
   "metadata": {},
   "outputs": [
    {
     "name": "stdout",
     "output_type": "stream",
     "text": [
      "[[ 1  5  9 13]\n",
      " [ 2  6 10 14]\n",
      " [ 3  7 11 15]\n",
      " [ 4  8 12 16]]\n"
     ]
    }
   ],
   "source": [
    "# Create a transpose of above matrix call it M2\n",
    "M2=(M1.T)\n",
    "print(M2)"
   ]
  },
  {
   "cell_type": "code",
   "execution_count": 37,
   "metadata": {},
   "outputs": [
    {
     "name": "stdout",
     "output_type": "stream",
     "text": [
      "[[ 1  2  3  4]\n",
      " [ 5  6  7  8]\n",
      " [ 9 10 11 12]\n",
      " [13 14 15 16]]\n",
      "\n",
      "[[ 1  5  9 13]\n",
      " [ 2  6 10 14]\n",
      " [ 3  7 11 15]\n",
      " [ 4  8 12 16]]\n",
      "\n",
      "[[ 2  7 12 17]\n",
      " [ 7 12 17 22]\n",
      " [12 17 22 27]\n",
      " [17 22 27 32]]\n"
     ]
    }
   ],
   "source": [
    "#Find sum of above matrix M3 = (M1 + M2)\n",
    "print(M1)\n",
    "print()\n",
    "print(M2)\n",
    "print()\n",
    "M3=M1+M2\n",
    "print(M3)"
   ]
  },
  {
   "cell_type": "code",
   "execution_count": 50,
   "metadata": {},
   "outputs": [
    {
     "name": "stdout",
     "output_type": "stream",
     "text": [
      "[[ 2  7 12 17]\n",
      " [ 7 12 17 22]\n",
      " [12 17 22 27]\n",
      " [17 22 27 32]]\n",
      "True\n"
     ]
    }
   ],
   "source": [
    "# Find Transpose of M3, Call it MT1. Check if M3 == MT1\n",
    "MT1=M3.T\n",
    "print(MT1)\n",
    "if M3.all()==MT1.all():\n",
    "    print (True) \n"
   ]
  },
  {
   "cell_type": "code",
   "execution_count": 52,
   "metadata": {},
   "outputs": [
    {
     "name": "stdout",
     "output_type": "stream",
     "text": [
      "[[ 1  2  3  4]\n",
      " [ 5  6  7  8]\n",
      " [ 9 10 11 12]\n",
      " [13 14 15 16]]\n",
      "\n",
      "[[ 1  5  9 13]\n",
      " [ 2  6 10 14]\n",
      " [ 3  7 11 15]\n",
      " [ 4  8 12 16]]\n",
      "\n",
      "[[ 0 -3 -6 -9]\n",
      " [ 3  0 -3 -6]\n",
      " [ 6  3  0 -3]\n",
      " [ 9  6  3  0]]\n"
     ]
    }
   ],
   "source": [
    "# find diffrence of M4 = (M1 - M2)\n",
    "print(M1)\n",
    "print()\n",
    "print(M2)\n",
    "print()\n",
    "M4=M1-M2\n",
    "print(M4)"
   ]
  },
  {
   "cell_type": "code",
   "execution_count": 57,
   "metadata": {},
   "outputs": [
    {
     "name": "stdout",
     "output_type": "stream",
     "text": [
      "[[ 0  3  6  9]\n",
      " [-3  0  3  6]\n",
      " [-6 -3  0  3]\n",
      " [-9 -6 -3  0]]\n",
      "True\n",
      "True\n"
     ]
    }
   ],
   "source": [
    "# Find Transpose of M4, Call it MT2. Check if M4 == MT2. Also check if M4 == -MT2\n",
    "MT2=M4.T\n",
    "print(MT2)\n",
    "if M4.all()==MT2.all():\n",
    "    print(True)\n",
    "if M4.all()==(MT2*-1).all():\n",
    "     print(True)"
   ]
  },
  {
   "cell_type": "code",
   "execution_count": 1,
   "metadata": {},
   "outputs": [
    {
     "name": "stdout",
     "output_type": "stream",
     "text": [
      "[29 19 37 30 20 34 32 26 36 33 28 10]\n",
      "[[29 19 37 30]\n",
      " [20 34 32 26]\n",
      " [36 33 28 10]]\n"
     ]
    }
   ],
   "source": [
    "# Create a matrix (3x4) R1 of random numbers between 10-40\n",
    "import numpy as np\n",
    "n=np.random.randint(10,40,12)\n",
    "print(n)\n",
    "np1=n.reshape(3,4)\n",
    "print(np1)"
   ]
  },
  {
   "cell_type": "code",
   "execution_count": 2,
   "metadata": {},
   "outputs": [
    {
     "name": "stdout",
     "output_type": "stream",
     "text": [
      "[[29 19 37 30]\n",
      " [20 34 32 26]\n",
      " [36 33 28 10]]\n",
      "List of max numbers\n",
      "[36, 34, 37, 30]\n",
      "List of min numbers\n",
      "[20, 19, 28, 10]\n"
     ]
    }
   ],
   "source": [
    "# find min and max column wise\n",
    "print(np1)\n",
    "x=len(np1)\n",
    "y=len(np1[1])\n",
    "out_lst_max=[]\n",
    "out_lst_min=[]\n",
    "\n",
    "for i in range(0,y):\n",
    "    inp_lst_col=np1[:,i]\n",
    "#     print(inp_lst_col)\n",
    "    max_num=inp_lst_col[0]\n",
    "    min_num=inp_lst_col[0]\n",
    "    for j in inp_lst_col:\n",
    "        if max_num < j:\n",
    "            max_num=j\n",
    "        elif min_num>j:\n",
    "            min_num=j\n",
    "    out_lst_max.append(max_num)\n",
    "    out_lst_min.append(min_num)\n",
    "    max_num=0\n",
    "    min_num=0\n",
    "    inp_lst_col=[]\n",
    "print('List of max numbers')\n",
    "print(out_lst_max)\n",
    "print('List of min numbers')\n",
    "print(out_lst_min)"
   ]
  },
  {
   "cell_type": "code",
   "execution_count": 3,
   "metadata": {},
   "outputs": [
    {
     "name": "stdout",
     "output_type": "stream",
     "text": [
      "[[29 19 37 30]\n",
      " [20 34 32 26]\n",
      " [36 33 28 10]]\n",
      "[30 26 10]\n",
      "[30 26 10]\n",
      "3\n",
      "3\n",
      "66\n",
      "[[29 19 37 66]\n",
      " [20 34 32 66]\n",
      " [36 33 28 66]]\n"
     ]
    }
   ],
   "source": [
    "# Replace the last column with sum of all the columns\n",
    "print(np1)\n",
    "print(np1[:,3])\n",
    "last_col_lst=np1[:,3]\n",
    "print(last_col_lst)\n",
    "x=len(np1)\n",
    "print(x)\n",
    "y=len(np1[1])-1\n",
    "print(y)\n",
    "asum=0\n",
    "\n",
    "for i in range (0,y):\n",
    "    var=last_col_lst[i]\n",
    "    asum=asum+var\n",
    "    var=0\n",
    "print(asum) \n",
    "for j in range (0,y):\n",
    "    np1[:,y][j]=asum\n",
    "\n",
    "print(np1)"
   ]
  },
  {
   "cell_type": "code",
   "execution_count": null,
   "metadata": {},
   "outputs": [],
   "source": [
    "# create a matrix (3x4) R1 of random numbers between 10-40\n",
    "# replace all even elements with nan in R1\n",
    "# count number of nan in R1"
   ]
  },
  {
   "cell_type": "code",
   "execution_count": 57,
   "metadata": {},
   "outputs": [
    {
     "name": "stdout",
     "output_type": "stream",
     "text": [
      "[15 23 29 31 12 31 12 25 29 20 23 25]\n",
      "23\n",
      "[[15 23 29 31]\n",
      " [12 31 12 25]\n",
      " [29 20 23 25]]\n",
      "4\n",
      "int32\n"
     ]
    }
   ],
   "source": [
    "# create a matrix (3x4) R1 of random numbers between 10-40\n",
    "import numpy as np3\n",
    "ax=np.random.randint(10.0,40.0,12)\n",
    "# ax=ay(dtype='float')\n",
    "\n",
    "ax[1]= 23.00\n",
    "print(ax)\n",
    "print(ax[1])\n",
    "R1=ax.reshape(3,4)\n",
    "print(R1)\n",
    "print(R1.itemsize)\n",
    "print(R1.dtype)"
   ]
  },
  {
   "cell_type": "code",
   "execution_count": 66,
   "metadata": {},
   "outputs": [
    {
     "name": "stdout",
     "output_type": "stream",
     "text": [
      "3 4\n",
      "[15]\n",
      "[0]\n",
      "[29]\n",
      "[23]\n",
      "[31]\n",
      "[0]\n",
      "[29]\n",
      "[0]\n",
      "[23]\n",
      "[31]\n",
      "[25]\n",
      "[25]\n",
      "[[15 23 29 31]\n",
      " [ 0 31  0 25]\n",
      " [29  0 23 25]]\n",
      "(array([1, 1, 2], dtype=int64), array([0, 2, 1], dtype=int64))\n",
      "9\n",
      "Number of zeroeszeroes\n",
      "3\n"
     ]
    }
   ],
   "source": [
    "# Replace all even elements with nan in R1\n",
    "x=len(R1)\n",
    "y=len(R1[1])\n",
    "print(x,y)\n",
    "for i in range (0,4):\n",
    "    for j in range (0,3):\n",
    "        print(R1[j,i:i+1])\n",
    "        p=R1[j,i:i+1]%2\n",
    "        if p == 0:\n",
    "            R1[j,i:i+1]= 0\n",
    "print(R1)\n",
    "\n",
    "print(np.where(R1==0))\n",
    "print(np.count_nonzero(R1))\n",
    "print('Number of zeroes')\n",
    "print((R1.size)-(np.count_nonzero(R1)))"
   ]
  },
  {
   "cell_type": "code",
   "execution_count": 68,
   "metadata": {},
   "outputs": [
    {
     "name": "stdout",
     "output_type": "stream",
     "text": [
      "a1\n",
      "[[1 2 3]\n",
      " [4 5 6]\n",
      " [7 8 9]]\n",
      "\n",
      "a2\n",
      "[[11 12 13]\n",
      " [14 15 16]\n",
      " [17 18 19]]\n",
      "\n",
      "a3 which is append(a1,a2)\n",
      "[ 1  2  3  4  5  6  7  8  9 11 12 13 14 15 16 17 18 19]\n",
      "\n",
      "a3 which is append(a1,a2, axis = 0)\n",
      "[[ 1  2  3]\n",
      " [ 4  5  6]\n",
      " [ 7  8  9]\n",
      " [11 12 13]\n",
      " [14 15 16]\n",
      " [17 18 19]]\n",
      "\n",
      "a3 which is append(a1,a2, axis = 1)\n",
      "[[ 1  2  3 11 12 13]\n",
      " [ 4  5  6 14 15 16]\n",
      " [ 7  8  9 17 18 19]]\n",
      "\n"
     ]
    }
   ],
   "source": [
    "a1 = np.arange(1,10).reshape(3,3)\n",
    "print('a1')\n",
    "print(a1)\n",
    "print()\n",
    "a2 = np.arange(11,20).reshape(3,3)\n",
    "print('a2')\n",
    "print(a2)\n",
    "print()\n",
    "a3 = np.append(a1,a2)\n",
    "print('a3 which is append(a1,a2)')\n",
    "print(a3)\n",
    "print()\n",
    "a3 = np.append(a1,a2, axis = 0)\n",
    "print('a3 which is append(a1,a2, axis = 0)')\n",
    "print(a3)\n",
    "print()\n",
    "a3 = np.append(a1,a2, axis = 1)\n",
    "print('a3 which is append(a1,a2, axis = 1)')\n",
    "print(a3)\n",
    "print()"
   ]
  },
  {
   "cell_type": "code",
   "execution_count": null,
   "metadata": {},
   "outputs": [],
   "source": []
  }
 ],
 "metadata": {
  "kernelspec": {
   "display_name": "Python 3",
   "language": "python",
   "name": "python3"
  },
  "language_info": {
   "codemirror_mode": {
    "name": "ipython",
    "version": 3
   },
   "file_extension": ".py",
   "mimetype": "text/x-python",
   "name": "python",
   "nbconvert_exporter": "python",
   "pygments_lexer": "ipython3",
   "version": "3.7.6"
  }
 },
 "nbformat": 4,
 "nbformat_minor": 2
}
