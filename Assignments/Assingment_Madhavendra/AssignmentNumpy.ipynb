{
 "cells": [
  {
   "cell_type": "markdown",
   "metadata": {},
   "source": [
    "## NUMPY\n",
    "- create a numpy array of 5 zeros.\n",
    "    - check datatype, itemsize and shape of above\n",
    "- create a numpy array of ones of shape (5,4)\n",
    "- create a matrix of shape 4,5 with numbers from 1-20\n",
    "- multiply all elements of above array by 10\n",
    "- print odd elements from array\n",
    "- replace all even elements by their negative\n",
    "  \n",
    "  \n",
    "  \n",
    "- create a linearly spaced matrix M1 of size 4x4 having values in range 1-16\n",
    "- create a transpose of above matrix call it M2\n",
    "- find sum of above matrix M3 = (M1 + M2)\n",
    "- Find Transpose of M3, Call it MT1. Check if M3 == MT1\n",
    "- find diffrence of M4 = (M1 - M2)\n",
    "- Find Transpose of M4, Call it MT2. Check if M4 == MT2. Also check if M4 == -MT2\n",
    "  \n",
    "\n",
    "- create a matrix (3x4) R1 of random numbers between 10-40\n",
    "- find min and max column wise\n",
    "- replace the last column with sum of all the columns\n",
    "\n",
    "\n",
    "- create a matrix (3x4) R1 of random numbers between 10-40\n",
    "- replace all even elements with nan in R1\n",
    "- count number of nan in R1\n",
    "\n",
    "\n",
    "\n",
    "- check output of this code  \n",
    "`a1 = np.arange(1,10).reshape(3,3)\n",
    "a2 = np.arange(11,20).reshape(3,3)\n",
    "a3 = np.append(a1,a2)\n",
    "print(a3)\n",
    "a3 = np.append(a1,a2, axis = 0)\n",
    "print(a3)\n",
    "a3 = np.append(a1,a2, axis = 1)\n",
    "print(a3)\n",
    "`\n"
   ]
  },
  {
   "cell_type": "markdown",
   "metadata": {},
   "source": [
    "###### create a numpy array of 5 zeros.check datatype, itemsize and shape of above"
   ]
  },
  {
   "cell_type": "code",
   "execution_count": 1,
   "metadata": {},
   "outputs": [
    {
     "name": "stdout",
     "output_type": "stream",
     "text": [
      "<class 'numpy.ndarray'>\n",
      "int32\n",
      "4\n",
      "(1, 5)\n"
     ]
    }
   ],
   "source": [
    "import numpy as np\n",
    "n=np.zeros((1,5),dtype='int32')\n",
    "print(type(n))\n",
    "print(n.dtype)\n",
    "print(n.itemsize)\n",
    "print(n.shape)"
   ]
  },
  {
   "cell_type": "markdown",
   "metadata": {},
   "source": [
    "###### create a numpy array of ones of shape (5,4)\n"
   ]
  },
  {
   "cell_type": "code",
   "execution_count": 2,
   "metadata": {},
   "outputs": [
    {
     "name": "stdout",
     "output_type": "stream",
     "text": [
      "[[1 1 1 1]\n",
      " [1 1 1 1]\n",
      " [1 1 1 1]\n",
      " [1 1 1 1]\n",
      " [1 1 1 1]]\n"
     ]
    }
   ],
   "source": [
    "n1=np.ones((5,4),dtype='int8')\n",
    "print(n1)"
   ]
  },
  {
   "cell_type": "markdown",
   "metadata": {},
   "source": [
    "###### create a matrix of shape 4,5 with numbers from 1-20\n",
    "###### multiply all elements of above array by 10\n",
    "###### print odd elements from array"
   ]
  },
  {
   "cell_type": "code",
   "execution_count": 3,
   "metadata": {},
   "outputs": [
    {
     "name": "stdout",
     "output_type": "stream",
     "text": [
      "[[ 0  1  2  3  4]\n",
      " [ 5  6  7  8  9]\n",
      " [10 11 12 13 14]\n",
      " [15 16 17 18 19]]\n",
      "\n",
      "[[  0  10  20  30  40]\n",
      " [ 50  60  70  80  90]\n",
      " [100 110 120 130 140]\n",
      " [150 160 170 180 190]]\n",
      "\n",
      "1\n",
      "3\n",
      "5\n",
      "7\n",
      "9\n",
      "11\n",
      "13\n",
      "15\n",
      "17\n",
      "19\n"
     ]
    }
   ],
   "source": [
    "n3=np.arange(20)\n",
    "n3.resize(4,5)\n",
    "print(n3)\n",
    "print()\n",
    "print(n3*10)\n",
    "print()\n",
    "for i in range(4):\n",
    "    for j in range(5):\n",
    "        if n3[i,j]%2!=0:\n",
    "            print(n3[i,j])\n"
   ]
  },
  {
   "cell_type": "markdown",
   "metadata": {},
   "source": [
    "###### replace all even elements by their negative"
   ]
  },
  {
   "cell_type": "code",
   "execution_count": 4,
   "metadata": {},
   "outputs": [
    {
     "name": "stdout",
     "output_type": "stream",
     "text": [
      "[[  0   1  -2   3  -4]\n",
      " [  5  -6   7  -8   9]\n",
      " [-10  11 -12  13 -14]\n",
      " [ 15 -16  17 -18  19]]\n"
     ]
    }
   ],
   "source": [
    "n3=np.arange(20)\n",
    "n3.resize(4,5)\n",
    "for i in range(4):\n",
    "    for j in range(5):\n",
    "        if n3[i,j]%2==0:\n",
    "            n3[i,j]=-n3[i,j]\n",
    "print(n3)\n",
    "\n",
    "# r[]=n3[i,j]%2==0\n",
    "# print(n3(r))"
   ]
  },
  {
   "cell_type": "markdown",
   "metadata": {},
   "source": [
    "#### create a linearly spaced matrix M1 of size 4x4 having values in range 1-16\n",
    "###### create a transpose of above matrix call it M2\n",
    "###### find sum of above matrix M3 = (M1 + M2)\n",
    "###### Find Transpose of M3, Call it MT1. Check if M3 == MT1\n",
    "###### find diffrence of M4 = (M1 - M2)\n",
    "###### Find Transpose of M4, Call it MT2. Check if M4 == MT2. Also check if M4 == -MT2"
   ]
  },
  {
   "cell_type": "code",
   "execution_count": 5,
   "metadata": {},
   "outputs": [
    {
     "name": "stdout",
     "output_type": "stream",
     "text": [
      "True\n",
      "\n",
      "False\n",
      "\n",
      "True\n"
     ]
    }
   ],
   "source": [
    "m1=(np.arange(1,17))\n",
    "m1.resize(4,4)\n",
    "m2=m1.T\n",
    "m3=m1+m2\n",
    "print((m3==m3.T).all())\n",
    "m4=m1-m2\n",
    "print()\n",
    "print((m4==m4.T).all())\n",
    "print()\n",
    "\n",
    "print((m4==-m4.T).all())"
   ]
  },
  {
   "cell_type": "markdown",
   "metadata": {},
   "source": [
    "###### create a matrix (3x4) R1 of random numbers between 10-40\n",
    "###### find min and max column wise\n",
    "###### replace the last column with sum of all the columns"
   ]
  },
  {
   "cell_type": "code",
   "execution_count": 6,
   "metadata": {},
   "outputs": [
    {
     "name": "stdout",
     "output_type": "stream",
     "text": [
      "[[32 22 10 24]\n",
      " [23 15 25 33]\n",
      " [12 19 34 31]]\n",
      "\n",
      "column wise max values are 32\tcolumn wise min values are 12\n",
      "column wise max values are 22\tcolumn wise min values are 15\n",
      "column wise max values are 34\tcolumn wise min values are 10\n",
      "column wise max values are 33\tcolumn wise min values are 24\n",
      "\n",
      "[[32 22 10 64]\n",
      " [23 15 25 63]\n",
      " [12 19 34 65]]\n"
     ]
    }
   ],
   "source": [
    "m=(np.random.randint(10,40,12)).reshape(3,4)\n",
    "print(m)\n",
    "print()\n",
    "for i in range(4):\n",
    "    print('column wise max values are',m[:,i].max(),end='\\t')\n",
    "    print('column wise min values are',m[:,i].min())\n",
    "\n",
    "#for replacing last column with sum of all columns\n",
    "print()\n",
    "for i in range(3):\n",
    "    m[i,3]=m[i,0]+m[i,1]+m[i,2]\n",
    "print(m)"
   ]
  },
  {
   "cell_type": "markdown",
   "metadata": {},
   "source": [
    "###### create a matrix (3x4) R1 of random numbers between 10-40\n",
    "###### replace all even elements with nan in R1\n",
    "###### count number of nan in R1"
   ]
  },
  {
   "cell_type": "code",
   "execution_count": 42,
   "metadata": {},
   "outputs": [
    {
     "name": "stdout",
     "output_type": "stream",
     "text": [
      "[[nan 27. 27. nan]\n",
      " [29. 15. nan 13.]\n",
      " [31. 39. nan 23.]] 4\n",
      "4\n"
     ]
    }
   ],
   "source": [
    "n=(np.random.randint(10.0,40.0,12,dtype='int32')).reshape(3,4)\n",
    "a=np.array(n,dtype='float')\n",
    "count=0\n",
    "for i in range(3):\n",
    "    for j in range(4):\n",
    "        if a[i,j]%2==0:\n",
    "            (a[i,j])=np.nan\n",
    "            count+=1\n",
    "            \n",
    "\n",
    "print(a,count)\n",
    "\n",
    "b=print(np.isnan(a).sum())"
   ]
  },
  {
   "cell_type": "markdown",
   "metadata": {},
   "source": [
    "###### check output of this code\n"
   ]
  },
  {
   "cell_type": "code",
   "execution_count": 22,
   "metadata": {},
   "outputs": [
    {
     "name": "stdout",
     "output_type": "stream",
     "text": [
      "[ 1  2  3  4  5  6  7  8  9 11 12 13 14 15 16 17 18 19]\n",
      "[[ 1  2  3]\n",
      " [ 4  5  6]\n",
      " [ 7  8  9]\n",
      " [11 12 13]\n",
      " [14 15 16]\n",
      " [17 18 19]]\n",
      "[[ 1  2  3 11 12 13]\n",
      " [ 4  5  6 14 15 16]\n",
      " [ 7  8  9 17 18 19]]\n"
     ]
    }
   ],
   "source": [
    "a1 = np.arange(1,10).reshape(3,3)\n",
    "a2 = np.arange(11,20).reshape(3,3)\n",
    "a3 = np.append(a1,a2)\n",
    "print(a3)\n",
    "a3 = np.append(a1,a2, axis = 0)\n",
    "print(a3)\n",
    "a3 = np.append(a1,a2, axis = 1)\n",
    "print(a3)"
   ]
  },
  {
   "cell_type": "code",
   "execution_count": null,
   "metadata": {},
   "outputs": [],
   "source": []
  }
 ],
 "metadata": {
  "kernelspec": {
   "display_name": "Python 3",
   "language": "python",
   "name": "python3"
  },
  "language_info": {
   "codemirror_mode": {
    "name": "ipython",
    "version": 3
   },
   "file_extension": ".py",
   "mimetype": "text/x-python",
   "name": "python",
   "nbconvert_exporter": "python",
   "pygments_lexer": "ipython3",
   "version": "3.7.6"
  }
 },
 "nbformat": 4,
 "nbformat_minor": 2
}
