{
 "cells": [
  {
   "cell_type": "code",
   "execution_count": null,
   "metadata": {},
   "outputs": [],
   "source": [
    "print(\"abcd\")"
   ]
  },
  {
   "cell_type": "code",
   "execution_count": 13,
   "metadata": {},
   "outputs": [
    {
     "name": "stdout",
     "output_type": "stream",
     "text": [
      "[10, 12, 14, 16, 18]\n"
     ]
    }
   ],
   "source": [
    "a = list(range(10,20,2))\n",
    "print(a)"
   ]
  },
  {
   "cell_type": "code",
   "execution_count": 3,
   "metadata": {},
   "outputs": [
    {
     "name": "stdout",
     "output_type": "stream",
     "text": [
      "[10, 12, 14, 16, 18]\n"
     ]
    }
   ],
   "source": [
    "print(a)"
   ]
  },
  {
   "cell_type": "code",
   "execution_count": 7,
   "metadata": {},
   "outputs": [
    {
     "data": {
      "text/plain": [
       "12"
      ]
     },
     "execution_count": 7,
     "metadata": {},
     "output_type": "execute_result"
    }
   ],
   "source": [
    "r = a[1] # indexing\n",
    "print(r)"
   ]
  },
  {
   "cell_type": "code",
   "execution_count": 15,
   "metadata": {},
   "outputs": [
    {
     "name": "stdout",
     "output_type": "stream",
     "text": [
      "[10, 12, 14, 16, 18]\n",
      "[12, 14]\n"
     ]
    }
   ],
   "source": [
    "a = list(range(10,20,2))\n",
    "print(a)\n",
    "print(a[1:3])"
   ]
  },
  {
   "cell_type": "markdown",
   "metadata": {},
   "source": [
    "### Behaviors"
   ]
  },
  {
   "cell_type": "code",
   "execution_count": 16,
   "metadata": {},
   "outputs": [
    {
     "name": "stdout",
     "output_type": "stream",
     "text": [
      "[True, 11, 'abcd', []]\n",
      "11\n",
      "abcd\n",
      "[]\n",
      "[True]\n"
     ]
    }
   ],
   "source": [
    "a = [True, 11, \"abcd\", []]\n",
    "print(a)\n",
    "print(a[1])\n",
    "print(a[2])\n",
    "print(a[3])\n",
    "print(a[:1])"
   ]
  },
  {
   "cell_type": "code",
   "execution_count": 3,
   "metadata": {},
   "outputs": [],
   "source": [
    "import numpy as np"
   ]
  },
  {
   "cell_type": "code",
   "execution_count": 21,
   "metadata": {},
   "outputs": [
    {
     "name": "stdout",
     "output_type": "stream",
     "text": [
      "['ALLOW_THREADS', 'AxisError', 'BUFSIZE', 'CLIP', 'ComplexWarning', 'DataSource', 'ERR_CALL', 'ERR_DEFAULT', 'ERR_IGNORE', 'ERR_LOG', 'ERR_PRINT', 'ERR_RAISE', 'ERR_WARN', 'FLOATING_POINT_SUPPORT', 'FPE_DIVIDEBYZERO', 'FPE_INVALID', 'FPE_OVERFLOW', 'FPE_UNDERFLOW', 'False_', 'Inf', 'Infinity', 'MAXDIMS', 'MAY_SHARE_BOUNDS', 'MAY_SHARE_EXACT', 'MachAr', 'ModuleDeprecationWarning', 'NAN', 'NINF', 'NZERO', 'NaN', 'PINF', 'PZERO', 'RAISE', 'RankWarning', 'SHIFT_DIVIDEBYZERO', 'SHIFT_INVALID', 'SHIFT_OVERFLOW', 'SHIFT_UNDERFLOW', 'ScalarType', 'Tester', 'TooHardError', 'True_', 'UFUNC_BUFSIZE_DEFAULT', 'UFUNC_PYVALS_NAME', 'VisibleDeprecationWarning', 'WRAP', '_NoValue', '_UFUNC_API', '__NUMPY_SETUP__', '__all__', '__builtins__', '__cached__', '__config__', '__doc__', '__file__', '__git_revision__', '__loader__', '__mkl_version__', '__name__', '__package__', '__path__', '__spec__', '__version__', '_add_newdoc_ufunc', '_arg', '_distributor_init', '_globals', '_mat', '_mklinit', '_pytesttester', 'abs', 'absolute', 'absolute_import', 'add', 'add_docstring', 'add_newdoc', 'add_newdoc_ufunc', 'alen', 'all', 'allclose', 'alltrue', 'amax', 'amin', 'angle', 'any', 'append', 'apply_along_axis', 'apply_over_axes', 'arange', 'arccos', 'arccosh', 'arcsin', 'arcsinh', 'arctan', 'arctan2', 'arctanh', 'argmax', 'argmin', 'argpartition', 'argsort', 'argwhere', 'around', 'array', 'array2string', 'array_equal', 'array_equiv', 'array_repr', 'array_split', 'array_str', 'asanyarray', 'asarray', 'asarray_chkfinite', 'ascontiguousarray', 'asfarray', 'asfortranarray', 'asmatrix', 'asscalar', 'atleast_1d', 'atleast_2d', 'atleast_3d', 'average', 'bartlett', 'base_repr', 'binary_repr', 'bincount', 'bitwise_and', 'bitwise_not', 'bitwise_or', 'bitwise_xor', 'blackman', 'block', 'bmat', 'bool', 'bool8', 'bool_', 'broadcast', 'broadcast_arrays', 'broadcast_to', 'busday_count', 'busday_offset', 'busdaycalendar', 'byte', 'byte_bounds', 'bytes0', 'bytes_', 'c_', 'can_cast', 'cast', 'cbrt', 'cdouble', 'ceil', 'cfloat', 'char', 'character', 'chararray', 'choose', 'clip', 'clongdouble', 'clongfloat', 'column_stack', 'common_type', 'compare_chararrays', 'compat', 'complex', 'complex128', 'complex64', 'complex_', 'complexfloating', 'compress', 'concatenate', 'conj', 'conjugate', 'convolve', 'copy', 'copysign', 'copyto', 'core', 'corrcoef', 'correlate', 'cos', 'cosh', 'count_nonzero', 'cov', 'cross', 'csingle', 'ctypeslib', 'cumprod', 'cumproduct', 'cumsum', 'datetime64', 'datetime_as_string', 'datetime_data', 'deg2rad', 'degrees', 'delete', 'deprecate', 'deprecate_with_doc', 'diag', 'diag_indices', 'diag_indices_from', 'diagflat', 'diagonal', 'diff', 'digitize', 'disp', 'divide', 'division', 'divmod', 'dot', 'double', 'dsplit', 'dstack', 'dtype', 'e', 'ediff1d', 'einsum', 'einsum_path', 'emath', 'empty', 'empty_like', 'equal', 'errstate', 'euler_gamma', 'exp', 'exp2', 'expand_dims', 'expm1', 'extract', 'eye', 'fabs', 'fastCopyAndTranspose', 'fft', 'fill_diagonal', 'find_common_type', 'finfo', 'fix', 'flatiter', 'flatnonzero', 'flexible', 'flip', 'fliplr', 'flipud', 'float', 'float16', 'float32', 'float64', 'float_', 'float_power', 'floating', 'floor', 'floor_divide', 'fmax', 'fmin', 'fmod', 'format_float_positional', 'format_float_scientific', 'format_parser', 'frexp', 'frombuffer', 'fromfile', 'fromfunction', 'fromiter', 'frompyfunc', 'fromregex', 'fromstring', 'full', 'full_like', 'fv', 'gcd', 'generic', 'genfromtxt', 'geomspace', 'get_array_wrap', 'get_include', 'get_printoptions', 'getbufsize', 'geterr', 'geterrcall', 'geterrobj', 'gradient', 'greater', 'greater_equal', 'half', 'hamming', 'hanning', 'heaviside', 'histogram', 'histogram2d', 'histogram_bin_edges', 'histogramdd', 'hsplit', 'hstack', 'hypot', 'i0', 'identity', 'iinfo', 'imag', 'in1d', 'index_exp', 'indices', 'inexact', 'inf', 'info', 'infty', 'inner', 'insert', 'int', 'int0', 'int16', 'int32', 'int64', 'int8', 'int_', 'int_asbuffer', 'intc', 'integer', 'interp', 'intersect1d', 'intp', 'invert', 'ipmt', 'irr', 'is_busday', 'isclose', 'iscomplex', 'iscomplexobj', 'isfinite', 'isfortran', 'isin', 'isinf', 'isnan', 'isnat', 'isneginf', 'isposinf', 'isreal', 'isrealobj', 'isscalar', 'issctype', 'issubclass_', 'issubdtype', 'issubsctype', 'iterable', 'ix_', 'kaiser', 'kron', 'lcm', 'ldexp', 'left_shift', 'less', 'less_equal', 'lexsort', 'lib', 'linalg', 'linspace', 'little_endian', 'load', 'loads', 'loadtxt', 'log', 'log10', 'log1p', 'log2', 'logaddexp', 'logaddexp2', 'logical_and', 'logical_not', 'logical_or', 'logical_xor', 'logspace', 'long', 'longcomplex', 'longdouble', 'longfloat', 'longlong', 'lookfor', 'ma', 'mafromtxt', 'mask_indices', 'mat', 'math', 'matmul', 'matrix', 'matrixlib', 'max', 'maximum', 'maximum_sctype', 'may_share_memory', 'mean', 'median', 'memmap', 'meshgrid', 'mgrid', 'min', 'min_scalar_type', 'minimum', 'mintypecode', 'mirr', 'mod', 'modf', 'moveaxis', 'msort', 'multiply', 'nan', 'nan_to_num', 'nanargmax', 'nanargmin', 'nancumprod', 'nancumsum', 'nanmax', 'nanmean', 'nanmedian', 'nanmin', 'nanpercentile', 'nanprod', 'nanquantile', 'nanstd', 'nansum', 'nanvar', 'nbytes', 'ndarray', 'ndenumerate', 'ndfromtxt', 'ndim', 'ndindex', 'nditer', 'negative', 'nested_iters', 'newaxis', 'nextafter', 'nonzero', 'not_equal', 'nper', 'npv', 'numarray', 'number', 'obj2sctype', 'object', 'object0', 'object_', 'ogrid', 'oldnumeric', 'ones', 'ones_like', 'outer', 'packbits', 'pad', 'partition', 'percentile', 'pi', 'piecewise', 'place', 'pmt', 'poly', 'poly1d', 'polyadd', 'polyder', 'polydiv', 'polyfit', 'polyint', 'polymul', 'polynomial', 'polysub', 'polyval', 'positive', 'power', 'ppmt', 'print_function', 'printoptions', 'prod', 'product', 'promote_types', 'ptp', 'put', 'put_along_axis', 'putmask', 'pv', 'quantile', 'r_', 'rad2deg', 'radians', 'random', 'rank', 'rate', 'ravel', 'ravel_multi_index', 'real', 'real_if_close', 'rec', 'recarray', 'recfromcsv', 'recfromtxt', 'reciprocal', 'record', 'remainder', 'repeat', 'require', 'reshape', 'resize', 'result_type', 'right_shift', 'rint', 'roll', 'rollaxis', 'roots', 'rot90', 'round', 'round_', 'row_stack', 's_', 'safe_eval', 'save', 'savetxt', 'savez', 'savez_compressed', 'sctype2char', 'sctypeDict', 'sctypeNA', 'sctypes', 'searchsorted', 'select', 'set_numeric_ops', 'set_printoptions', 'set_string_function', 'setbufsize', 'setdiff1d', 'seterr', 'seterrcall', 'seterrobj', 'setxor1d', 'shape', 'shares_memory', 'short', 'show_config', 'sign', 'signbit', 'signedinteger', 'sin', 'sinc', 'single', 'singlecomplex', 'sinh', 'size', 'sometrue', 'sort', 'sort_complex', 'source', 'spacing', 'split', 'sqrt', 'square', 'squeeze', 'stack', 'std', 'str', 'str0', 'str_', 'string_', 'subtract', 'sum', 'swapaxes', 'sys', 'take', 'take_along_axis', 'tan', 'tanh', 'tensordot', 'test', 'testing', 'tile', 'timedelta64', 'trace', 'tracemalloc_domain', 'transpose', 'trapz', 'tri', 'tril', 'tril_indices', 'tril_indices_from', 'trim_zeros', 'triu', 'triu_indices', 'triu_indices_from', 'true_divide', 'trunc', 'typeDict', 'typeNA', 'typecodes', 'typename', 'ubyte', 'ufunc', 'uint', 'uint0', 'uint16', 'uint32', 'uint64', 'uint8', 'uintc', 'uintp', 'ulonglong', 'unicode', 'unicode_', 'union1d', 'unique', 'unpackbits', 'unravel_index', 'unsignedinteger', 'unwrap', 'ushort', 'vander', 'var', 'vdot', 'vectorize', 'version', 'void', 'void0', 'vsplit', 'vstack', 'warnings', 'where', 'who', 'zeros', 'zeros_like']\n"
     ]
    }
   ],
   "source": [
    "print(dir(np))"
   ]
  },
  {
   "cell_type": "code",
   "execution_count": 27,
   "metadata": {},
   "outputs": [
    {
     "name": "stdout",
     "output_type": "stream",
     "text": [
      "1\n",
      "False\n"
     ]
    }
   ],
   "source": [
    "print(np.FLOATING_POINT_SUPPORT)\n",
    "print(np.isnan(11))"
   ]
  },
  {
   "cell_type": "code",
   "execution_count": 26,
   "metadata": {},
   "outputs": [
    {
     "name": "stdout",
     "output_type": "stream",
     "text": [
      "<module 'numpy' from 'C:\\\\ProgramData\\\\Anaconda3\\\\lib\\\\site-packages\\\\numpy\\\\__init__.py'>\n",
      "<module 'numpy.random' from 'C:\\\\ProgramData\\\\Anaconda3\\\\lib\\\\site-packages\\\\numpy\\\\random\\\\__init__.py'>\n"
     ]
    }
   ],
   "source": [
    "print(np)"
   ]
  },
  {
   "cell_type": "code",
   "execution_count": 28,
   "metadata": {},
   "outputs": [
    {
     "name": "stdout",
     "output_type": "stream",
     "text": [
      "['a', 'b', 'c', 'd']\n"
     ]
    }
   ],
   "source": [
    "print(list(\"abcd\"))"
   ]
  },
  {
   "cell_type": "code",
   "execution_count": 29,
   "metadata": {},
   "outputs": [
    {
     "name": "stdout",
     "output_type": "stream",
     "text": [
      "[10 20 30 40 50] <class 'numpy.ndarray'>\n"
     ]
    }
   ],
   "source": [
    "a = [10,20,30,40,50]\n",
    "\n",
    "n = np.array(a)\n",
    "print(n, type(n))"
   ]
  },
  {
   "cell_type": "code",
   "execution_count": 30,
   "metadata": {},
   "outputs": [
    {
     "name": "stdout",
     "output_type": "stream",
     "text": [
      "20 <class 'numpy.int32'>\n",
      "[20 30 40 50] <class 'numpy.ndarray'>\n"
     ]
    }
   ],
   "source": [
    "print(n[1], type(n[1]))\n",
    "print(n[1:], type(n[1:]))"
   ]
  },
  {
   "cell_type": "code",
   "execution_count": 34,
   "metadata": {},
   "outputs": [
    {
     "name": "stdout",
     "output_type": "stream",
     "text": [
      "[10 20 30 40 50 60 70 80 90]\n",
      "\n",
      "int32\n",
      "9\n",
      "(9,)\n"
     ]
    }
   ],
   "source": [
    "n = np.array(range(10,100,10))\n",
    "print(n)\n",
    "print()\n",
    "print(n.dtype)\n",
    "print(n.size)\n",
    "print(n.shape)"
   ]
  },
  {
   "cell_type": "code",
   "execution_count": 35,
   "metadata": {},
   "outputs": [
    {
     "name": "stdout",
     "output_type": "stream",
     "text": [
      "[10 20 30 40 50 60 70 80 90]\n",
      "\n",
      "int64\n",
      "9\n",
      "(9,)\n"
     ]
    }
   ],
   "source": [
    "n = np.array(range(10,100,10), dtype='int64')\n",
    "print(n) # n is vector\n",
    "print()\n",
    "print(n.dtype)\n",
    "print(n.size)\n",
    "print(n.shape)\n",
    "i = 10 # scalar"
   ]
  },
  {
   "cell_type": "code",
   "execution_count": 1,
   "metadata": {},
   "outputs": [
    {
     "name": "stdout",
     "output_type": "stream",
     "text": [
      "1\n",
      "1\n",
      "1\n"
     ]
    }
   ],
   "source": [
    "print(1)\n",
    "print((1))\n",
    "print((1))"
   ]
  },
  {
   "cell_type": "code",
   "execution_count": 11,
   "metadata": {},
   "outputs": [
    {
     "name": "stdout",
     "output_type": "stream",
     "text": [
      "int8\n",
      "1\n",
      "[  1   2   3 -48]\n"
     ]
    }
   ],
   "source": [
    "# int vs float\n",
    "a =  np.array([1,2,3, 2000], dtype = np.int8)\n",
    "print(a.dtype)\n",
    "print(a.itemsize)\n",
    "print(a)"
   ]
  },
  {
   "cell_type": "code",
   "execution_count": 6,
   "metadata": {},
   "outputs": [
    {
     "name": "stdout",
     "output_type": "stream",
     "text": [
      "4\n"
     ]
    }
   ],
   "source": [
    "# int vs float\n",
    "a =  np.array([1,2,3, 2000])\n",
    "# print(a.dtype)\n",
    "print(a.itemsize)\n",
    "# print(a)\n",
    "# print(a.flags)\n",
    "# print(a.ndim)"
   ]
  },
  {
   "cell_type": "code",
   "execution_count": 16,
   "metadata": {},
   "outputs": [
    {
     "name": "stdout",
     "output_type": "stream",
     "text": [
      "float64\n",
      "8\n",
      "(4,)\n",
      "[1.0e+00 2.0e+00 3.2e+00 2.0e+03]\n",
      "2.0\n"
     ]
    }
   ],
   "source": [
    "# int vs float\n",
    "a =  np.array([1,2,3.2,2000])\n",
    "print(a.dtype)\n",
    "print(a.itemsize)\n",
    "print(a.shape)\n",
    "print(a)\n",
    "print(a[1])\n",
    "a.itemsize"
   ]
  },
  {
   "cell_type": "code",
   "execution_count": 42,
   "metadata": {},
   "outputs": [
    {
     "name": "stdout",
     "output_type": "stream",
     "text": [
      "<U11\n",
      "44\n",
      "['1' '2.5' '3' '2000']\n"
     ]
    }
   ],
   "source": [
    "# int vs float\n",
    "a = np.array([1,\"2.5\",3, 2000])\n",
    "print(a.dtype)\n",
    "print(a.itemsize)\n",
    "print(a)"
   ]
  },
  {
   "cell_type": "code",
   "execution_count": 43,
   "metadata": {},
   "outputs": [
    {
     "name": "stdout",
     "output_type": "stream",
     "text": [
      "object\n",
      "8\n",
      "[1 list([]) '2.5' 3 2000]\n"
     ]
    }
   ],
   "source": [
    "# int vs float\n",
    "a =  np.array([1,[],\"2.5\",3, 2000])\n",
    "print(a.dtype)\n",
    "print(a.itemsize)\n",
    "print(a)"
   ]
  },
  {
   "cell_type": "code",
   "execution_count": 55,
   "metadata": {},
   "outputs": [
    {
     "name": "stdout",
     "output_type": "stream",
     "text": [
      "[ 1  2  3  4  5  6  7  8  9 10 11 12] <class 'numpy.ndarray'>\n",
      "\n",
      "[[ 1  2  3  4]\n",
      " [ 5  6  7  8]\n",
      " [ 9 10 11 12]]\n",
      "(3, 4)\n",
      "2\n"
     ]
    }
   ],
   "source": [
    "a = np.arange(1,13)\n",
    "print(a, type(a))\n",
    "\n",
    "print()\n",
    "b = a.reshape((3,4))\n",
    "print(b)\n",
    "print(b.shape)\n",
    "print(b.ndim)"
   ]
  },
  {
   "cell_type": "code",
   "execution_count": 65,
   "metadata": {},
   "outputs": [
    {
     "name": "stdout",
     "output_type": "stream",
     "text": [
      "[[1 2]\n",
      " [3 4]\n",
      " [6 7]]\n",
      "\n",
      "<class 'numpy.ndarray'> <class 'numpy.ndarray'>\n",
      "[1 2]\n",
      "(3, 2)\n"
     ]
    }
   ],
   "source": [
    "r = [  [1,2], [3,4], [6, 7] ]\n",
    "a = np.array(r)\n",
    "print(a)\n",
    "\n",
    "print()\n",
    "print(type(a), type(a[0]))\n",
    "print(a[0])\n",
    "print(a.shape)"
   ]
  },
  {
   "cell_type": "code",
   "execution_count": 67,
   "metadata": {},
   "outputs": [
    {
     "name": "stdout",
     "output_type": "stream",
     "text": [
      "[[1 2]\n",
      " [3 4]\n",
      " [6 7]]\n",
      "\n",
      "[[1 3 6]\n",
      " [2 4 7]]\n"
     ]
    }
   ],
   "source": [
    "r = [  [1,2], [3,4], [6, 7] ]\n",
    "a = np.array(r)\n",
    "print(a)\n",
    "\n",
    "print()\n",
    "print(a.T) # transpose"
   ]
  },
  {
   "cell_type": "code",
   "execution_count": 72,
   "metadata": {},
   "outputs": [
    {
     "name": "stdout",
     "output_type": "stream",
     "text": [
      "[ 1  2  3  4  5  6  7  8  9 10 11 12] <class 'numpy.ndarray'>\n",
      "\n",
      "[[ 1  2  3  4]\n",
      " [ 5  6  7  8]\n",
      " [ 9 10 11 12]]\n",
      "\n",
      "[[[ 1  2]\n",
      "  [ 3  4]]\n",
      "\n",
      " [[ 5  6]\n",
      "  [ 7  8]]\n",
      "\n",
      " [[ 9 10]\n",
      "  [11 12]]]\n",
      "[ 1  2  3  4  5  6  7  8  9 10 11 12]\n"
     ]
    }
   ],
   "source": [
    "a = np.arange(1,13)\n",
    "print(a, type(a))\n",
    "\n",
    "print()\n",
    "b = a.reshape((3,4))\n",
    "print(b)\n",
    "\n",
    "print()\n",
    "b = a.reshape((3,2,2))\n",
    "print(b)\n",
    "\n",
    "print(a)"
   ]
  },
  {
   "cell_type": "code",
   "execution_count": 75,
   "metadata": {},
   "outputs": [
    {
     "name": "stdout",
     "output_type": "stream",
     "text": [
      "[ 1  2  3  4  5  6  7  8  9 10 11 12] <class 'numpy.ndarray'>\n",
      "\n",
      "None\n",
      "[[ 1  2  3  4  5]\n",
      " [ 6  7  8  9 10]\n",
      " [11 12  0  0  0]]\n",
      "\n",
      "[[1 2 3]\n",
      " [4 5 6]\n",
      " [7 8 9]]\n"
     ]
    }
   ],
   "source": [
    "a = np.arange(1,13)\n",
    "print(a, type(a))\n",
    "print()\n",
    "b = a.resize((3,5))\n",
    "print(b)\n",
    "print(a)\n",
    "\n",
    "a.resize((3,3))\n",
    "print()\n",
    "print(a)"
   ]
  },
  {
   "cell_type": "code",
   "execution_count": 77,
   "metadata": {},
   "outputs": [
    {
     "name": "stdout",
     "output_type": "stream",
     "text": [
      "[11 10 17 12 11 19 14 17 11 14 12 18 12 14 11 11 15 17 17 10 19 18 19 10\n",
      " 17 16 10 11 18 19 12 10 17 10 17 10 18 16 19 17 12 17 16 17 10 12 19 15\n",
      " 17 12 18 17 19 18 11 17 11 19 18 12 11 11 17 18 17 14 13 17 16 16 18 18\n",
      " 14 10 10 16 14 11 11 11 15 18 11 14 11 16 12 16 12 19 11 12 18 10 19 18\n",
      " 12 18 13 14]\n",
      "[[11 10 17 12 11 19 14 17 11 14]\n",
      " [12 18 12 14 11 11 15 17 17 10]\n",
      " [19 18 19 10 17 16 10 11 18 19]\n",
      " [12 10 17 10 17 10 18 16 19 17]\n",
      " [12 17 16 17 10 12 19 15 17 12]\n",
      " [18 17 19 18 11 17 11 19 18 12]\n",
      " [11 11 17 18 17 14 13 17 16 16]\n",
      " [18 18 14 10 10 16 14 11 11 11]\n",
      " [15 18 11 14 11 16 12 16 12 19]\n",
      " [11 12 18 10 19 18 12 18 13 14]]\n"
     ]
    }
   ],
   "source": [
    "r = np.random.randint(10,20 ,100)\n",
    "print(r)\n",
    "r.resize(10,10)\n",
    "print(r)"
   ]
  },
  {
   "cell_type": "code",
   "execution_count": 80,
   "metadata": {},
   "outputs": [
    {
     "name": "stdout",
     "output_type": "stream",
     "text": [
      "[18 11 10 16 11 16 15 19 14 11 19 12 16 13 16 10 13 17 16 11]\n",
      "[[18 11 10 16 11]\n",
      " [16 15 19 14 11]\n",
      " [19 12 16 13 16]\n",
      " [10 13 17 16 11]]\n",
      "\n",
      "[[18 16 19 10]\n",
      " [11 15 12 13]\n",
      " [10 19 16 17]\n",
      " [16 14 13 16]\n",
      " [11 11 16 11]]\n"
     ]
    }
   ],
   "source": [
    "\n",
    "r = np.random.randint(10,20 ,20)\n",
    "print(r)\n",
    "r.resize(4,5)\n",
    "print(r)\n",
    "\n",
    "print()\n",
    "print(r.T)"
   ]
  },
  {
   "cell_type": "code",
   "execution_count": 87,
   "metadata": {},
   "outputs": [
    {
     "name": "stdout",
     "output_type": "stream",
     "text": [
      "[[0 0 0]\n",
      " [0 0 0]]\n",
      "[[1 1 1]\n",
      " [1 1 1]]\n",
      "\n",
      "[[10 10 10]\n",
      " [10 10 10]]\n",
      "[[1 1 1]\n",
      " [1 1 1]]\n"
     ]
    }
   ],
   "source": [
    "a =np.zeros((2,3), dtype='int8')\n",
    "print(a)\n",
    "a =np.ones((2,3), dtype='int8')\n",
    "print(a)\n",
    "r = a*10\n",
    "\n",
    "print()\n",
    "print(r)\n",
    "print(a)"
   ]
  },
  {
   "cell_type": "code",
   "execution_count": 102,
   "metadata": {},
   "outputs": [
    {
     "name": "stdout",
     "output_type": "stream",
     "text": [
      "[[1 2 3]\n",
      " [4 5 6]]\n",
      "[[11 12 13]\n",
      " [14 15 16]]\n",
      "[21 22 23]\n",
      "\n",
      "[[11 24 39]\n",
      " [56 75 96]]\n",
      "\n",
      "[[ 21  44  69]\n",
      " [ 84 110 138]]\n",
      "\n",
      "[[ 21  44  69]\n",
      " [ 84 110 138]]\n",
      "\n",
      "[134 332]\n"
     ]
    }
   ],
   "source": [
    "a1 = np.arange(1,7).reshape((2,3))\n",
    "a2 = np.arange(11,17).reshape((2,3))\n",
    "a3 = np.arange(21,24)\n",
    "print(a1)\n",
    "print(a2)\n",
    "print(a3)\n",
    "\n",
    "print()\n",
    "print(a1*a2)\n",
    "\n",
    "print()\n",
    "print(a3*a1)\n",
    "\n",
    "print()\n",
    "print(a1*a3)\n",
    "\n",
    "print() # matrix multiplication\n",
    "print(np.matmul(a1,a3))"
   ]
  },
  {
   "cell_type": "code",
   "execution_count": 23,
   "metadata": {},
   "outputs": [
    {
     "name": "stdout",
     "output_type": "stream",
     "text": [
      "[1.  1.5 2.  2.5 3.  3.5 4.  4.5 5.  5.5 6.  6.5 7.  7.5 8. ]\n"
     ]
    }
   ],
   "source": [
    "# linspace\n",
    "a = np.linspace(1,8,15,endpoint=True) # AP\n",
    "print(a)\n"
   ]
  },
  {
   "cell_type": "code",
   "execution_count": null,
   "metadata": {},
   "outputs": [],
   "source": [
    "# __str__\n",
    "# __repr__"
   ]
  },
  {
   "cell_type": "code",
   "execution_count": 24,
   "metadata": {},
   "outputs": [
    {
     "name": "stdout",
     "output_type": "stream",
     "text": [
      "[10 11 12 13 14 15 16 17 18 19]\n",
      "11\n",
      "[11 13 15 17 19]\n",
      "[19 17 15 13 11]\n"
     ]
    }
   ],
   "source": [
    "a = np.arange(10,20)\n",
    "print(a)\n",
    "\n",
    "print(a[1])\n",
    "print(a[1::2])\n",
    "print(a[::-2])"
   ]
  },
  {
   "cell_type": "code",
   "execution_count": 117,
   "metadata": {},
   "outputs": [
    {
     "name": "stdout",
     "output_type": "stream",
     "text": [
      "[10 11 12 13 14 15 16 17 18 19]\n",
      "[0 1 0 1 0 1 0 1 0 1]\n",
      "[ True False  True False  True False  True False  True False]\n",
      "[10 12 14 16 18]\n",
      "[12 15 18]\n"
     ]
    }
   ],
   "source": [
    "a = np.arange(10,20)\n",
    "print(a)\n",
    "r = a%2\n",
    "print(r)\n",
    "r1 = r == 0\n",
    "print(r1)\n",
    "print(a[r1])\n",
    "\n",
    "print(a[a%3 == 0])\n",
    "\n",
    "# print( [10,20] == 10)"
   ]
  },
  {
   "cell_type": "code",
   "execution_count": 126,
   "metadata": {},
   "outputs": [
    {
     "name": "stdout",
     "output_type": "stream",
     "text": [
      "[10 11 12 13 14 15 16 17 18 19]\n",
      "[False False  True False False  True False False  True False]\n",
      "[ True  True False  True  True False  True  True False  True]\n",
      "[12 15 18]\n"
     ]
    }
   ],
   "source": [
    "a = np.arange(10,20)\n",
    "print(a)\n",
    "r = ((a%3) == 0)\n",
    "print(r)\n",
    "print(~r)\n",
    "print(a[a%3 == 0])"
   ]
  },
  {
   "cell_type": "code",
   "execution_count": 128,
   "metadata": {},
   "outputs": [
    {
     "name": "stdout",
     "output_type": "stream",
     "text": [
      "[10 30]\n"
     ]
    }
   ],
   "source": [
    "a = np.array([10,20,30])\n",
    "print(a[ [True, False, True] ])"
   ]
  },
  {
   "cell_type": "code",
   "execution_count": 131,
   "metadata": {},
   "outputs": [
    {
     "name": "stdout",
     "output_type": "stream",
     "text": [
      "Enter something10 20 30\n",
      "[10 20 30]\n"
     ]
    }
   ],
   "source": [
    "s = input(\"Enter something\")\n",
    "\n",
    "nums = [int(n) for n in s.split()]\n",
    "\n",
    "a = np.array(nums)\n",
    "print(a)"
   ]
  },
  {
   "cell_type": "code",
   "execution_count": 25,
   "metadata": {},
   "outputs": [
    {
     "name": "stdout",
     "output_type": "stream",
     "text": [
      "<class 'float'>\n"
     ]
    }
   ],
   "source": [
    "print(type(np.nan))"
   ]
  },
  {
   "cell_type": "code",
   "execution_count": 3,
   "metadata": {},
   "outputs": [
    {
     "name": "stdout",
     "output_type": "stream",
     "text": [
      "<class 'numpy.ndarray'>\n",
      "[10. nan 30.] [10. 20. 30.]\n",
      "\n",
      "nan\n",
      "60.0\n",
      "\n",
      "nan\n",
      "60.0\n",
      "False\n",
      "False\n",
      "False\n",
      "False\n",
      "nan\n"
     ]
    }
   ],
   "source": [
    "import numpy as np\n",
    "a1 = np.array([10,20,30.0])\n",
    "a2 = np.array([10,20,30.0])\n",
    "print(type(a1))\n",
    "a1[1] = np.nan\n",
    "print(a1, a2)\n",
    "print()\n",
    "print(a1.sum())\n",
    "print(a2.sum())\n",
    "\n",
    "print()\n",
    "print(a1.sum())\n",
    "print(a2.sum())\n",
    "\n",
    "print(np.nan == np.nan)\n",
    "print(np.nan < np.nan)\n",
    "print(np.nan == 10)\n",
    "print(np.nan == np.int8(10))\n",
    "print(np.nan + np.int8(10))"
   ]
  },
  {
   "cell_type": "code",
   "execution_count": 153,
   "metadata": {},
   "outputs": [
    {
     "name": "stdout",
     "output_type": "stream",
     "text": [
      "[10. nan 30. nan]\n",
      "[False  True False  True]\n",
      "[ 10. 100.  30. 100.]\n"
     ]
    }
   ],
   "source": [
    "a1 = np.array([10,20,30.0, np.nan])\n",
    "a1[1] = np.nan\n",
    "\n",
    "print(a1)\n",
    "print(np.isnan(a1))\n",
    "\n",
    "a1[np.isnan(a1)] = 100\n",
    "print(a1)"
   ]
  },
  {
   "cell_type": "code",
   "execution_count": 154,
   "metadata": {},
   "outputs": [
    {
     "name": "stdout",
     "output_type": "stream",
     "text": [
      "[100, 2, 3]\n"
     ]
    }
   ],
   "source": [
    "a = [1,2,3]\n",
    "a[0] = 100\n",
    "print(a)"
   ]
  },
  {
   "cell_type": "code",
   "execution_count": 167,
   "metadata": {},
   "outputs": [
    {
     "name": "stdout",
     "output_type": "stream",
     "text": [
      "True\n",
      "True\n",
      "\n",
      "False\n",
      "True\n",
      "\n",
      "[ 0.  0.  0. nan]\n",
      "False\n",
      "True\n",
      "\n",
      "[nan nan nan nan]\n",
      "True\n",
      "True\n",
      "\n",
      "True\n"
     ]
    }
   ],
   "source": [
    "a = np.array([1,2,3])\n",
    "print(a.all()) # and\n",
    "print(a.any()) # or \n",
    "\n",
    "print()\n",
    "a = np.array([0,2,3])\n",
    "print(a.all()) # and\n",
    "print(a.any()) # or\n",
    "\n",
    "print()\n",
    "a = np.array([0,0,0, np.nan])\n",
    "print(a)\n",
    "print(a.all()) # and\n",
    "print(a.any()) # or\n",
    "\n",
    "print()\n",
    "a = np.array([np.nan]*4)\n",
    "print(a)\n",
    "print(a.all()) # and\n",
    "print(a.any()) # or\n",
    "\n",
    "print()\n",
    "print(np.bool(np.nan))"
   ]
  },
  {
   "cell_type": "code",
   "execution_count": 180,
   "metadata": {},
   "outputs": [
    {
     "name": "stdout",
     "output_type": "stream",
     "text": [
      "[[ 10  20  30  40]\n",
      " [ 50  60  70  80]\n",
      " [ 90 100 110 120]]\n",
      "\n",
      " rows [10 20 30 40]\n",
      "\n",
      " rows [[10 20 30 40]\n",
      " [50 60 70 80]]\n",
      "\n",
      " Col [10 50 90]\n",
      "\n",
      " Col [[ 10  20]\n",
      " [ 50  60]\n",
      " [ 90 100]]\n",
      "\n",
      " Col [[ 10  50  90]\n",
      " [ 20  60 100]]\n",
      "\n",
      "\n",
      " Col 70\n",
      "\n",
      " Col [[30 40]\n",
      " [70 80]]\n"
     ]
    }
   ],
   "source": [
    "a = np.arange(1,13).reshape((3,4))*10\n",
    "print(a)\n",
    "\n",
    "print(\"\\n rows\", a[0])\n",
    "print(\"\\n rows\", a[0:2])\n",
    "\n",
    "\n",
    "print(\"\\n Col\", a[:, 0]) # a[r][c]\n",
    "print(\"\\n Col\", a[:,0:2])\n",
    "print(\"\\n Col\", a[:,0:2].T)\n",
    "\n",
    "print()\n",
    "print(\"\\n Col\", a[1,2])\n",
    "print(\"\\n Col\", a[0:2,2:])"
   ]
  },
  {
   "cell_type": "code",
   "execution_count": 186,
   "metadata": {},
   "outputs": [
    {
     "name": "stdout",
     "output_type": "stream",
     "text": [
      "[[ 10  20  30  40]\n",
      " [ 50  60  70  80]\n",
      " [ 90 100 110 120]]\n",
      "[ 50 120 110]\n"
     ]
    }
   ],
   "source": [
    "a = np.arange(1,13).reshape((3,4))*10\n",
    "print(a)\n",
    "print(a[ ((1,2,2),(0,3,2)) ])"
   ]
  },
  {
   "cell_type": "code",
   "execution_count": 191,
   "metadata": {},
   "outputs": [
    {
     "name": "stdout",
     "output_type": "stream",
     "text": [
      "[[10 11 12 13 14]\n",
      " [15 16 17 18 19]]\n",
      "\n",
      "[[ True False  True False  True]\n",
      " [False  True False  True False]]\n",
      "(array([0, 0, 0, 1, 1], dtype=int64), array([0, 2, 4, 1, 3], dtype=int64))\n",
      "[10 12 14 16 18]\n"
     ]
    }
   ],
   "source": [
    "a = np.arange(10,20).reshape(2,5)\n",
    "# print(a)\n",
    "# print()\n",
    "# print(a%2 == 0)\n",
    "\n",
    "i = np.where(a%2 == 0)\n",
    "print(i)\n",
    "\n",
    "print(a[ i ])"
   ]
  },
  {
   "cell_type": "code",
   "execution_count": 212,
   "metadata": {},
   "outputs": [
    {
     "name": "stdout",
     "output_type": "stream",
     "text": [
      "[( 1,  2,  3, 'a') (11, -1, 22, 'b')]\n",
      "<class 'numpy.void'>\n",
      "-1\n"
     ]
    }
   ],
   "source": [
    "#r  = np.loadtxt('test.csv', delimiter=',')\n",
    "#print(r)\n",
    "\n",
    "r = np.genfromtxt('test.csv', delimiter=\",\", dtype=None,  encoding=\"ASCII\")\n",
    "print(r)\n",
    "print(type(r[0]))\n",
    "print(r[1][1])"
   ]
  },
  {
   "cell_type": "code",
   "execution_count": 192,
   "metadata": {},
   "outputs": [],
   "source": [
    "with open('test.csv', 'w')  as f:\n",
    "    print(\"1,2,3\", file = f)\n",
    "    print(\"11,,22\", file = f)"
   ]
  }
 ],
 "metadata": {
  "kernelspec": {
   "display_name": "Python 3",
   "language": "python",
   "name": "python3"
  },
  "language_info": {
   "codemirror_mode": {
    "name": "ipython",
    "version": 3
   },
   "file_extension": ".py",
   "mimetype": "text/x-python",
   "name": "python",
   "nbconvert_exporter": "python",
   "pygments_lexer": "ipython3",
   "version": "3.7.6"
  }
 },
 "nbformat": 4,
 "nbformat_minor": 2
}
